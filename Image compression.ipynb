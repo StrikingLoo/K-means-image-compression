{
 "cells": [
  {
   "cell_type": "code",
   "execution_count": 42,
   "metadata": {},
   "outputs": [],
   "source": [
    "from dask_ml.cluster import KMeans\n",
    "from PIL import Image\n",
    "import numpy as np\n",
    "import time\n",
    "%matplotlib inline"
   ]
  },
  {
   "cell_type": "code",
   "execution_count": 43,
   "metadata": {},
   "outputs": [],
   "source": [
    "def vector_of_pixels(np_im):\n",
    "    pixels = []\n",
    "    for row in np_im:\n",
    "        for pixel in row:\n",
    "            pixels.append(pixel)\n",
    "    return np.asarray(pixels)"
   ]
  },
  {
   "cell_type": "code",
   "execution_count": 44,
   "metadata": {},
   "outputs": [],
   "source": [
    "def pixels_from_path(file_path):\n",
    "    im = Image.open(file_path)\n",
    "    np_im = np.array(im)\n",
    "    return np_im"
   ]
  },
  {
   "cell_type": "code",
   "execution_count": 45,
   "metadata": {},
   "outputs": [],
   "source": [
    "def clustered_pixels(x_fit, pixels):\n",
    "    labels = x_fit.predict(pixels).compute()\n",
    "    print(labels.shape)\n",
    "    res= x_fit.cluster_centers_[labels] \n",
    "    print(res.shape)\n",
    "    return res"
   ]
  },
  {
   "cell_type": "code",
   "execution_count": 46,
   "metadata": {},
   "outputs": [],
   "source": [
    "def reshape_pixels(pixels, width, height):\n",
    "    resulting_pixels = [[] for _ in range(height)]\n",
    "    for i in range(height):\n",
    "        for j in range(width):\n",
    "            resulting_pixels[i].append(pixels[width*i+j])\n",
    "    return np.asarray(resulting_pixels)"
   ]
  },
  {
   "cell_type": "code",
   "execution_count": 47,
   "metadata": {},
   "outputs": [],
   "source": [
    "def save_image(clust_pixels):\n",
    "    img = Image.fromarray(clust_pixels, 'RGB')\n",
    "    img.save(file_path[:-4]+'.'+str(k)+'.jpg')\n",
    "    img.show()"
   ]
  },
  {
   "cell_type": "code",
   "execution_count": 48,
   "metadata": {},
   "outputs": [],
   "source": [
    "def compress_image(file_path, k):\n",
    "    np_im = pixels_from_path(file_path)\n",
    "    x,y = np_im.shape[0],np_im.shape[1]\n",
    "    pixels = vector_of_pixels(np_im)\n",
    "    \n",
    "    km = KMeans(n_clusters=k)\n",
    "    x_fit = km.fit(pixels)\n",
    "    clust_pixels = clustered_pixels(x_fit, pixels)\n",
    "\n",
    "    x_floor = reshape_pixels(clust_pixels, y, x)\n",
    "\n",
    "    save_image(x_floor)\n",
    "    return pixels"
   ]
  },
  {
   "cell_type": "code",
   "execution_count": 51,
   "metadata": {
    "scrolled": true
   },
   "outputs": [
    {
     "name": "stdout",
     "output_type": "stream",
     "text": [
      "(166167,)\n",
      "(166167, 3)\n"
     ]
    },
    {
     "data": {
      "text/plain": [
       "21.408594608306885"
      ]
     },
     "execution_count": 51,
     "metadata": {},
     "output_type": "execute_result"
    }
   ],
   "source": [
    "file_path = \"images/cat.1089.jpg\"\n",
    "k = 12\n",
    "start = time.time()\n",
    "clust_pixels = compress_image(file_path, k)\n",
    "end = time.time()\n",
    "end - start"
   ]
  },
  {
   "cell_type": "code",
   "execution_count": null,
   "metadata": {},
   "outputs": [],
   "source": []
  }
 ],
 "metadata": {
  "kernelspec": {
   "display_name": "Python 3",
   "language": "python",
   "name": "python3"
  },
  "language_info": {
   "codemirror_mode": {
    "name": "ipython",
    "version": 3
   },
   "file_extension": ".py",
   "mimetype": "text/x-python",
   "name": "python",
   "nbconvert_exporter": "python",
   "pygments_lexer": "ipython3",
   "version": "3.6.7"
  }
 },
 "nbformat": 4,
 "nbformat_minor": 2
}
